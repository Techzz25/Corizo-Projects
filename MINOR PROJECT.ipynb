{
 "cells": [
  {
   "cell_type": "code",
   "execution_count": 3,
   "id": "32023deb",
   "metadata": {},
   "outputs": [
    {
     "name": "stdout",
     "output_type": "stream",
     "text": [
      "Predicted Close Price for 2022-02-05 : 410.170013\n"
     ]
    },
    {
     "name": "stderr",
     "output_type": "stream",
     "text": [
      "C:\\Users\\Gayatri\\anaconda3\\Lib\\site-packages\\sklearn\\base.py:464: UserWarning: X does not have valid feature names, but LinearRegression was fitted with feature names\n",
      "  warnings.warn(\n"
     ]
    }
   ],
   "source": [
    "import pandas as pd\n",
    "import numpy as np\n",
    "from sklearn.linear_model import LinearRegression\n",
    "from sklearn.model_selection import train_test_split\n",
    "\n",
    "\n",
    "data = pd.read_excel(r'C:\\Users\\Gayatri\\Downloads\\Minor Project-20240312T063352Z-001\\Minor Project\\Minor Project Data set (Stock Price Prediction).xlsx')  \n",
    "\n",
    "features = ['Open', 'High', 'Low', 'Adj Close', 'Volume']\n",
    "target = 'Close'\n",
    "\n",
    "\n",
    "data['Date'] = pd.to_datetime(data['Date'])\n",
    "\n",
    "X = data[features]\n",
    "y = data[target]\n",
    "\n",
    "\n",
    "X_train, X_test, y_train, y_test = train_test_split(X, y, test_size=0.2, random_state=42)\n",
    "\n",
    "\n",
    "model = LinearRegression()\n",
    "\n",
    "model.fit(X_train, y_train)\n",
    "\n",
    "last_date = data['Date'].max()\n",
    "future_date = last_date + pd.Timedelta(days=1)\n",
    "\n",
    "# Assuming you have the last row of data available for the next prediction\n",
    "last_row = data.iloc[-1][features].values.reshape(1, -1)\n",
    "future_prediction = model.predict(last_row)\n",
    "\n",
    "print(\"Predicted Close Price for\", future_date.date(), \":\", future_prediction[0])"
   ]
  },
  {
   "cell_type": "code",
   "execution_count": null,
   "id": "e719724a",
   "metadata": {},
   "outputs": [],
   "source": []
  }
 ],
 "metadata": {
  "kernelspec": {
   "display_name": "Python 3 (ipykernel)",
   "language": "python",
   "name": "python3"
  },
  "language_info": {
   "codemirror_mode": {
    "name": "ipython",
    "version": 3
   },
   "file_extension": ".py",
   "mimetype": "text/x-python",
   "name": "python",
   "nbconvert_exporter": "python",
   "pygments_lexer": "ipython3",
   "version": "3.11.5"
  }
 },
 "nbformat": 4,
 "nbformat_minor": 5
}
